{
 "cells": [
  {
   "cell_type": "code",
   "execution_count": 1,
   "metadata": {
    "executionInfo": {
     "elapsed": 6106,
     "status": "ok",
     "timestamp": 1715496376915,
     "user": {
      "displayName": "Ki Di",
      "userId": "11388083629378020019"
     },
     "user_tz": -540
    },
    "id": "gaXvKTIYi6r6"
   },
   "outputs": [],
   "source": [
    "# 그럼 첫번째 레슨 : 라이브러리 불러오기\n",
    "\n",
    "#필요한 딥러닝 관련 라이브러리를 불러옵니다.\n",
    "\n",
    "import tensorflow as tf\n",
    "from tensorflow.keras import datasets, layers, models\n",
    "import matplotlib.pyplot as plt"
   ]
  },
  {
   "cell_type": "code",
   "execution_count": 2,
   "metadata": {
    "colab": {
     "base_uri": "https://localhost:8080/"
    },
    "executionInfo": {
     "elapsed": 5481,
     "status": "ok",
     "timestamp": 1715496384750,
     "user": {
      "displayName": "Ki Di",
      "userId": "11388083629378020019"
     },
     "user_tz": -540
    },
    "id": "JQ4PgaVJjDaZ",
    "outputId": "ade51911-b92c-482c-9734-04f47b24fe54"
   },
   "outputs": [],
   "source": [
    "# 🗂️ Step 2: 데이터 불러오기\n",
    "\n",
    "#CIFAR-10 데이터셋을 불러오고, 학습용/테스트용으로 분리합니다.\n",
    "\n",
    "(train_images, train_labels), (test_images, test_labels) = datasets.cifar10.load_data()\n"
   ]
  },
  {
   "cell_type": "markdown",
   "metadata": {},
   "source": [
    "## 과제1. 데이터의 구조를 살펴보세요. 사이즈는?"
   ]
  },
  {
   "cell_type": "code",
   "execution_count": 3,
   "metadata": {},
   "outputs": [
    {
     "name": "stdout",
     "output_type": "stream",
     "text": [
      "✅ 학습 이미지 shape: (50000, 32, 32, 3)\n",
      "✅ 학습 라벨 shape: (50000, 1)\n",
      "✅ 테스트 이미지 shape: (10000, 32, 32, 3)\n",
      "✅ 테스트 라벨 shape: (10000, 1)\n"
     ]
    }
   ],
   "source": [
    "# 여기에서 확인해 보세요.\n",
    "print(\"✅ 학습 이미지 shape:\", train_images.shape)\n",
    "print(\"✅ 학습 라벨 shape:\", train_labels.shape)\n",
    "print(\"✅ 테스트 이미지 shape:\", test_images.shape)\n",
    "print(\"✅ 테스트 라벨 shape:\", test_labels.shape)"
   ]
  },
  {
   "cell_type": "code",
   "execution_count": 4,
   "metadata": {
    "colab": {
     "base_uri": "https://localhost:8080/",
     "height": 672
    },
    "executionInfo": {
     "elapsed": 4322,
     "status": "ok",
     "timestamp": 1715496406434,
     "user": {
      "displayName": "Ki Di",
      "userId": "11388083629378020019"
     },
     "user_tz": -540
    },
    "id": "SvdfBtPFjLhm",
    "outputId": "2b6591a8-9efa-42fd-8acd-9edddbcd947c"
   },
   "outputs": [],
   "source": [
    "# 🏷️ Step 3: 클래스 이름 정의\n",
    "\n",
    "#CIFAR-10의 라벨은 숫자로 되어 있으므로, 사람이 이해할 수 있도록 이름을 부여합니다.\n",
    "class_names = ['airplane', 'automobile', 'bird', 'cat', 'deer',\n",
    "               'dog', 'frog', 'horse', 'ship', 'truck']"
   ]
  },
  {
   "cell_type": "markdown",
   "metadata": {},
   "source": [
    "## 과제2. 아래 코드의 빈칸을 채워 CNN 모델을 완성해보세요. \n",
    "#### layer나 패딩 혹은 drop out, batch normalization을 추가해 가며 모델의 정확도 변화를 보는 것도 좋습니다."
   ]
  },
  {
   "cell_type": "code",
   "execution_count": 5,
   "metadata": {
    "executionInfo": {
     "elapsed": 2048,
     "status": "ok",
     "timestamp": 1715496498864,
     "user": {
      "displayName": "Ki Di",
      "userId": "11388083629378020019"
     },
     "user_tz": -540
    },
    "id": "b6KfEI2ljboP"
   },
   "outputs": [
    {
     "name": "stderr",
     "output_type": "stream",
     "text": [
      "c:\\Users\\user\\AppData\\Local\\Programs\\Python\\Python310\\lib\\site-packages\\keras\\src\\layers\\convolutional\\base_conv.py:113: UserWarning: Do not pass an `input_shape`/`input_dim` argument to a layer. When using Sequential models, prefer using an `Input(shape)` object as the first layer in the model instead.\n",
      "  super().__init__(activity_regularizer=activity_regularizer, **kwargs)\n"
     ]
    }
   ],
   "source": [
    "# 🧱 Step 4: CNN 모델 구성\n",
    "# Convolution → MaxPooling → Flatten → Dense 구조로 CNN을 설계합니다.\n",
    "# 아래의 빈칸 (___)을 채워 모델을 완성해보세요.\n",
    "\n",
    "model = models.Sequential()\n",
    "\n",
    "# 첫 번째 합성곱 레이어\n",
    "model.add(layers.Conv2D(32, (3, 3), activation='relu', input_shape=(32, 32, 3)))  # TODO: 커널 개수 설정\n",
    "\n",
    "# 첫 번째 풀링 레이어\n",
    "model.add(layers.MaxPooling2D((2, 2)))  # TODO: 풀링 크기 설정\n",
    "\n",
    "# 두 번째 합성곱 레이어\n",
    "model.add(layers.Conv2D(64, (3, 3), activation='relu'))  # TODO: 커널 크기 설정\n",
    "\n",
    "# 두 번째 풀링 레이어\n",
    "model.add(layers.MaxPooling2D((2, 2)))\n",
    "\n",
    "# 세 번째 합성곱 레이어\n",
    "model.add(layers.Conv2D(64, (3, 3), activation='relu'))  # TODO: 커널 개수 설정\n",
    "\n",
    "# Flatten + Fully Connected Layer\n",
    "model.add(layers.Flatten())\n",
    "model.add(layers.Dense(64))  # TODO: 은닉층 유닛 수 설정\n",
    "model.add(layers.Dense(10))  # 출력층: CIFAR-10은 클래스가 10개"
   ]
  },
  {
   "cell_type": "markdown",
   "metadata": {},
   "source": [
    "## 자신이 채운 코드를 기반으로 각 레이어별 Feature Map 크기를 계산해 보세요. \n",
    "(padding은 디폴트로 없습니다.)"
   ]
  },
  {
   "cell_type": "markdown",
   "metadata": {},
   "source": [
    "Answer:\\\n",
    "입력 데이터 : (32, 32, 3)\\\n",
    "첫 번째 합성곱 이후 : (30, 30, 32)\\\n",
    "첫 번째 풀링 이후 : (15, 15, 32)\\\n",
    "두 번째 합성곱 이후 : (13, 13, 64)\\\n",
    "두 번째 풀링 이후 : (6, 6, 64)\\\n",
    "세 번째 합성곱 이후 : (4, 4, 64)\\\n",
    "Flatten 이후 : (1024)\\\n",
    "첫 번째 Dense 이후 : (64)\\\n",
    "두 번째 Dense 이후 : (10)"
   ]
  },
  {
   "cell_type": "code",
   "execution_count": 6,
   "metadata": {
    "colab": {
     "base_uri": "https://localhost:8080/"
    },
    "executionInfo": {
     "elapsed": 87492,
     "status": "ok",
     "timestamp": 1715496826651,
     "user": {
      "displayName": "Ki Di",
      "userId": "11388083629378020019"
     },
     "user_tz": -540
    },
    "id": "e5GLqIzikILD",
    "outputId": "9eb72adf-635d-43c6-a577-f8a67a3556d0"
   },
   "outputs": [],
   "source": [
    "# ⚙️ Step 5: 모델 컴파일\n",
    "\n",
    "#모델을 학습할 수 있도록 컴파일합니다. 손실 함수, 최적화 방법, 평가지표를 설정합니다.\n",
    "\n",
    "model.compile(optimizer='adam',\n",
    "              loss=tf.keras.losses.SparseCategoricalCrossentropy(from_logits=True),\n",
    "              metrics=['accuracy'])"
   ]
  },
  {
   "cell_type": "code",
   "execution_count": 7,
   "metadata": {},
   "outputs": [
    {
     "name": "stdout",
     "output_type": "stream",
     "text": [
      "Epoch 1/10\n",
      "\u001b[1m1563/1563\u001b[0m \u001b[32m━━━━━━━━━━━━━━━━━━━━\u001b[0m\u001b[37m\u001b[0m \u001b[1m18s\u001b[0m 10ms/step - accuracy: 0.2097 - loss: 3.6409 - val_accuracy: 0.4135 - val_loss: 1.5730\n",
      "Epoch 2/10\n",
      "\u001b[1m1563/1563\u001b[0m \u001b[32m━━━━━━━━━━━━━━━━━━━━\u001b[0m\u001b[37m\u001b[0m \u001b[1m17s\u001b[0m 11ms/step - accuracy: 0.4380 - loss: 1.5257 - val_accuracy: 0.4890 - val_loss: 1.4013\n",
      "Epoch 3/10\n",
      "\u001b[1m1563/1563\u001b[0m \u001b[32m━━━━━━━━━━━━━━━━━━━━\u001b[0m\u001b[37m\u001b[0m \u001b[1m17s\u001b[0m 11ms/step - accuracy: 0.5134 - loss: 1.3432 - val_accuracy: 0.5399 - val_loss: 1.2697\n",
      "Epoch 4/10\n",
      "\u001b[1m1563/1563\u001b[0m \u001b[32m━━━━━━━━━━━━━━━━━━━━\u001b[0m\u001b[37m\u001b[0m \u001b[1m18s\u001b[0m 12ms/step - accuracy: 0.5647 - loss: 1.2323 - val_accuracy: 0.5798 - val_loss: 1.2091\n",
      "Epoch 5/10\n",
      "\u001b[1m1563/1563\u001b[0m \u001b[32m━━━━━━━━━━━━━━━━━━━━\u001b[0m\u001b[37m\u001b[0m \u001b[1m17s\u001b[0m 11ms/step - accuracy: 0.6104 - loss: 1.1168 - val_accuracy: 0.6010 - val_loss: 1.1752\n",
      "Epoch 6/10\n",
      "\u001b[1m1563/1563\u001b[0m \u001b[32m━━━━━━━━━━━━━━━━━━━━\u001b[0m\u001b[37m\u001b[0m \u001b[1m16s\u001b[0m 10ms/step - accuracy: 0.6386 - loss: 1.0436 - val_accuracy: 0.6330 - val_loss: 1.0599\n",
      "Epoch 7/10\n",
      "\u001b[1m1563/1563\u001b[0m \u001b[32m━━━━━━━━━━━━━━━━━━━━\u001b[0m\u001b[37m\u001b[0m \u001b[1m17s\u001b[0m 11ms/step - accuracy: 0.6614 - loss: 0.9723 - val_accuracy: 0.6326 - val_loss: 1.0818\n",
      "Epoch 8/10\n",
      "\u001b[1m1563/1563\u001b[0m \u001b[32m━━━━━━━━━━━━━━━━━━━━\u001b[0m\u001b[37m\u001b[0m \u001b[1m16s\u001b[0m 10ms/step - accuracy: 0.6822 - loss: 0.9172 - val_accuracy: 0.6449 - val_loss: 1.0483\n",
      "Epoch 9/10\n",
      "\u001b[1m1563/1563\u001b[0m \u001b[32m━━━━━━━━━━━━━━━━━━━━\u001b[0m\u001b[37m\u001b[0m \u001b[1m17s\u001b[0m 11ms/step - accuracy: 0.7033 - loss: 0.8571 - val_accuracy: 0.6165 - val_loss: 1.1706\n",
      "Epoch 10/10\n",
      "\u001b[1m1563/1563\u001b[0m \u001b[32m━━━━━━━━━━━━━━━━━━━━\u001b[0m\u001b[37m\u001b[0m \u001b[1m16s\u001b[0m 10ms/step - accuracy: 0.7117 - loss: 0.8211 - val_accuracy: 0.6530 - val_loss: 1.0424\n",
      "313/313 - 1s - 4ms/step - accuracy: 0.6530 - loss: 1.0424\n"
     ]
    },
    {
     "data": {
      "image/png": "[encoded data removed]",
      "text/plain": [
       "<Figure size 640x480 with 1 Axes>"
      ]
     },
     "metadata": {},
     "output_type": "display_data"
    }
   ],
   "source": [
    "# 🔥 Step 6: 모델 학습 및 성능 평가\n",
    "\n",
    "history = model.fit(train_images, train_labels, epochs=10,\n",
    "                    validation_data=(test_images, test_labels))\n",
    "#모델 성능 평가\n",
    "plt.plot(history.history['accuracy'],label='accuracy')\n",
    "plt.plot(history.history['val_accuracy'],label = 'val_accuracy')\n",
    "plt.xlabel('Epoch')\n",
    "plt.ylabel('Accuracy')\n",
    "plt.ylim([0.5, 1])\n",
    "plt.legend(loc='lower right')\n",
    "\n",
    "test_loss, test_acc = model.evaluate(test_images,\n",
    "                                     test_labels,\n",
    "                                     verbose=2)\n"
   ]
  },
  {
   "cell_type": "code",
   "execution_count": 8,
   "metadata": {
    "colab": {
     "base_uri": "https://localhost:8080/"
    },
    "executionInfo": {
     "elapsed": 309,
     "status": "ok",
     "timestamp": 1715496854691,
     "user": {
      "displayName": "Ki Di",
      "userId": "11388083629378020019"
     },
     "user_tz": -540
    },
    "id": "Cc2Uh7qqlGAi",
    "outputId": "9169ed3f-ecbf-4598-83fc-ea11f56d8775"
   },
   "outputs": [
    {
     "name": "stdout",
     "output_type": "stream",
     "text": [
      "Test Accuracy is 0.652999997138977\n"
     ]
    }
   ],
   "source": [
    "print('Test Accuracy is',test_acc)"
   ]
  },
  {
   "cell_type": "markdown",
   "metadata": {},
   "source": [
    "## 과제3. 직접사용해 보기. 이미지를 로드하고 cifar-10의 사이즈로 리사이즈"
   ]
  },
  {
   "cell_type": "code",
   "execution_count": 11,
   "metadata": {
    "id": "Ka8GtI6ElKA2"
   },
   "outputs": [
    {
     "name": "stdout",
     "output_type": "stream",
     "text": [
      "\u001b[1m1/1\u001b[0m \u001b[32m━━━━━━━━━━━━━━━━━━━━\u001b[0m\u001b[37m\u001b[0m \u001b[1m0s\u001b[0m 138ms/step\n"
     ]
    },
    {
     "data": {
      "image/png": "[encoded data removed]",
      "text/plain": [
       "<Figure size 640x480 with 1 Axes>"
      ]
     },
     "metadata": {},
     "output_type": "display_data"
    }
   ],
   "source": [
    "import numpy as np\n",
    "from tensorflow.keras.preprocessing import image\n",
    "\n",
    "# 새 이미지를 로드하고 모델 예측 수행\n",
    "def predict_new_image(image_path, model, class_names):\n",
    "    # 이미지 로드 및 전처리\n",
    "    img = image.load_img(image_path, target_size=(32, 32))  # CIFAR-10 크기로 리사이즈 빈칸채우기\n",
    "    img_array = image.img_to_array(img)  # 이미지를 배열로 변환\n",
    "    img_array = np.expand_dims(img_array, axis=0)  # 배치를 위해 차원 추가\n",
    "    img_array = img_array / 255.0  # 정규화 \n",
    "\n",
    "    # 예측 수행\n",
    "    predictions = model.predict(img_array)\n",
    "    predicted_class = np.argmax(predictions)  # 가장 높은 확률의 클래스 인덱스\n",
    "    class_name = class_names[predicted_class]  # 클래스 이름\n",
    "\n",
    "    # 결과 출력\n",
    "    plt.imshow(img)\n",
    "    plt.title(f\"Predicted: {class_name}\")\n",
    "    plt.axis('off')\n",
    "    plt.show()\n",
    "\n",
    "# 사용 예시\n",
    "image_path =  r\"C:\\Users\\user\\Downloads\\사진.jpg\" # 예측할 이미지의 경로 절대경로를 입력하면 됩니다. 뭔가 자신의 얼굴사진을 넣어보면 재미있는일이...\n",
    "predict_new_image(image_path, model, class_names)\n"
   ]
  },
  {
   "cell_type": "markdown",
   "metadata": {},
   "source": [
    "## 왜 255.0으로 나누었을까요? 이미지 전처리에 대한 지식이니 조사해보세요."
   ]
  },
  {
   "cell_type": "markdown",
   "metadata": {},
   "source": [
    "Answer:\\\n",
    "이미지를 255.0으로 나누는 이유는 픽셀 값을 0~1 범위로 정규화(normalization) 하기 위함이다. 일반적인 이미지의 픽셀 값은 0~255 사이의 정수이며, 이 값을 그대로 신경망에 입력하면 학습이 불안정해질 수 있기 때문에 255.0으로 나눈다."
   ]
  },
  {
   "cell_type": "markdown",
   "metadata": {},
   "source": [
    "## 과제4. CNN의 inductive bias에 대해서 조사를 해보고 생각해 봅시다.\n",
    "### CNN은 왜 이미지 처리에 좋을까요? 이미지 말고도 CNN을 잘 쓸 수 있는데는 어디일까요?"
   ]
  },
  {
   "cell_type": "markdown",
   "metadata": {},
   "source": [
    "Answer:\n",
    "1. 지역성(Locality) 가정\n",
    "→ 인접한 픽셀끼리 의미 있는 정보를 가질 것이라는 가정\n",
    "→ 작은 커널로 국소 정보를 추출함\n",
    "\n",
    "2. 가중치 공유(Weight Sharing)\n",
    "→ 동일한 필터(커널)를 이미지 전체에 적용\n",
    "→ 학습 파라미터 수 감소 + 위치 불변성 (같은 패턴이 어디에 있든 감지)\n",
    "\n",
    "3. 계층적 구성(Hierarchical Structure)\n",
    "→ 저수준(선, 모서리) → 고수준(눈, 얼굴) 특성으로 점점 추상화\n",
    "\n",
    "\n",
    "이미지에서 중요한 정보는 국소적 특징이고, CNN은 이것을 잘 추출해 냄.\n",
    "동일한 특징이 이미지 내 어디에 있든지 탐지 가능함.\n",
    "파라미터가 적어서 학습 효율이 좋고, 과적합 위험도 낮음.\n",
    "\n",
    "CNN은 이미지 외에도 공간적 또는 순서가 있는 데이터에 잘 작동함.\n",
    "1. 음성 데이터 처리 (스펙트로그램 기반 음성 인식)\n",
    "- 2D 이미지처럼 표현된 음향 패턴을 CNN이 인식\n",
    "\n",
    "2. 자연어 처리 (문장을 행렬로 표현)\n",
    "- 문장을 임베딩한 후 CNN으로 감정 분석, 문장 분류 수행\n",
    "\n",
    "3. 시계열 데이터 분석 (주가 예측, 센서 데이터)\n",
    "- 시계열을 1D로 보고 1D-CNN으로 처리\n",
    "\n",
    "4. 의료 영상 분석 (CT, MRI 이미지 분류)\n",
    "\n",
    "- 병변 탐지, 종양 분류 등에 활용\n",
    "\n",
    "5. 추천 시스템 (사용자-아이템 상호작용을 이미지처럼 모델링)\n",
    "\n"
   ]
  }
 ],
 "metadata": {
  "accelerator": "GPU",
  "colab": {
   "authorship_tag": "ABX9TyN8CYc8ZH9vkV2j3L9Mb357",
   "gpuType": "T4",
   "provenance": []
  },
  "kernelspec": {
   "display_name": "Python 3",
   "language": "python",
   "name": "python3"
  },
  "language_info": {
   "codemirror_mode": {
    "name": "ipython",
    "version": 3
   },
   "file_extension": ".py",
   "mimetype": "text/x-python",
   "name": "python",
   "nbconvert_exporter": "python",
   "pygments_lexer": "ipython3",
   "version": "3.10.0"
  }
 },
 "nbformat": 4,
 "nbformat_minor": 0
}
